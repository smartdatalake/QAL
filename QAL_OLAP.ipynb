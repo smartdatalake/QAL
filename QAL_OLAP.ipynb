{
 "cells": [
  {
   "cell_type": "markdown",
   "metadata": {},
   "source": [
    "## Import libraries, define const values, and set URLs path\n",
    "Set the root address (REST_API_ADDRESS) based on your docker exposed IP"
   ]
  },
  {
   "cell_type": "code",
   "execution_count": 7,
   "metadata": {},
   "outputs": [],
   "source": [
    "import sys\n",
    "import json\n",
    "import requests\n",
    "import matplotlib.pyplot as plt\n",
    "\n",
    "# REST URL\n",
    "REST_API_ADDRESS = 'http://10.90.46.32:4545/'\n",
    "REST_API_ADDRESS = 'http://localhost:4545/'\n",
    "Alive_URL = REST_API_ADDRESS + 'Alive'\n",
    "Query_URL = REST_API_ADDRESS + 'QAL'\n",
    "FlushSample_URL = REST_API_ADDRESS + 'flushsample'\n",
    "RemoveTable_URL = REST_API_ADDRESS + 'removetable'\n",
    "ChangeProteus_URL = REST_API_ADDRESS + 'changeProteus'\n",
    "ChangeWareHouseSize_URL = REST_API_ADDRESS + 'changeWRSize'"
   ]
  },
  {
   "cell_type": "markdown",
   "metadata": {},
   "source": [
    "## Check QAL is alive\n",
    "Check the status of QAL"
   ]
  },
  {
   "cell_type": "code",
   "execution_count": 11,
   "metadata": {
    "scrolled": true
   },
   "outputs": [
    {
     "name": "stdout",
     "output_type": "stream",
     "text": [
      "{'status':200,'message':\"I am. Space quota:1000mb, Map()Map()\"}\n"
     ]
    }
   ],
   "source": [
    "response = requests.get(Alive_URL)\n",
    "print(response.text)\n"
   ]
  },
  {
   "cell_type": "markdown",
   "metadata": {},
   "source": [
    "## Set Proteus credential\n",
    "Set the proteus credentials. QAL needs this information to fetch tables. "
   ]
  },
  {
   "cell_type": "code",
   "execution_count": 68,
   "metadata": {
    "scrolled": true
   },
   "outputs": [
    {
     "name": "stdout",
     "output_type": "stream",
     "text": [
      "{'status':200,'message':\"Proteus credential is changed.\"}\n"
     ]
    }
   ],
   "source": [
    "ProteusURL=\"jdbc:avatica:remote:url=http://diascld32.iccluster.epfl.ch:18007;serialization=PROTOBUF\"\n",
    "ProteusUsername=\"sdlhshah\"\n",
    "ProteusPassword=\"Shah13563556\"\n",
    "data={'url' : ProteusURL, 'username' : ProteusUsername, 'pass':ProteusPassword}\n",
    "response = requests.get(ChangeProteus_URL,params=data)\n",
    "print(response.text)"
   ]
  },
  {
   "cell_type": "markdown",
   "metadata": {},
   "source": [
    "## Set warehouse space quota\n",
    "Define size of the warehouse (in megaByte) for storing the synopses. "
   ]
  },
  {
   "cell_type": "code",
   "execution_count": 46,
   "metadata": {
    "scrolled": true
   },
   "outputs": [
    {
     "name": "stdout",
     "output_type": "stream",
     "text": [
      "{'status':200,'message':\"Warehouse quota is updated.\"}\n"
     ]
    }
   ],
   "source": [
    "quota=1000\n",
    "data={'quota':quota}\n",
    "response = requests.get(ChangeWareHouseSize_URL,params=data)\n",
    "print(response.text)"
   ]
  },
  {
   "cell_type": "markdown",
   "metadata": {},
   "source": [
    "## Remove stored synopses\n",
    "QAL stores generated synopses in the warehouse. To remove them:"
   ]
  },
  {
   "cell_type": "code",
   "execution_count": 18,
   "metadata": {
    "scrolled": true
   },
   "outputs": [
    {
     "name": "stdout",
     "output_type": "stream",
     "text": [
      "{'status':200,'message':\"Warehouse is flushed.\"}\n"
     ]
    }
   ],
   "source": [
    "response = requests.get(FlushSample_URL)\n",
    "print(response.text)"
   ]
  },
  {
   "cell_type": "markdown",
   "metadata": {},
   "source": [
    "## Remove downloaded tables from Proteus\n",
    "QAL buffers downloaded tables from Proteus. To remove buffered tables"
   ]
  },
  {
   "cell_type": "code",
   "execution_count": 7,
   "metadata": {
    "scrolled": true
   },
   "outputs": [
    {
     "name": "stdout",
     "output_type": "stream",
     "text": [
      "{'status':200,'message':\"Warehouse is flushed.\"}\n"
     ]
    }
   ],
   "source": [
    "response = requests.get(RemoveTable_URL)\n",
    "print(response.text)"
   ]
  },
  {
   "cell_type": "markdown",
   "metadata": {},
   "source": [
    "## Send approximate queries via REST call\n",
    "In order to check and test the QAL functionalities, we injected two test tables inside the docker image. SCT is a view made out of SpazioDati companies dataset, and PFT is a view generated from Public Funding dataset. "
   ]
  },
  {
   "cell_type": "markdown",
   "metadata": {},
   "source": [
    "## Data profile table\n",
    "Data profile helps you to get information about a table. Use the keyword dataprofile instead of select and set confidence and error for your query. The result is type and range for each column of the table."
   ]
  },
  {
   "cell_type": "code",
   "execution_count": 19,
   "metadata": {
    "scrolled": false
   },
   "outputs": [
    {
     "name": "stdout",
     "output_type": "stream",
     "text": [
      "[{\"name\":\"acheneID\",\"type\":\"String\",\"countNonNull\":36260650,\"countDistinct\":0,\"min\":0.0,\"max\":0.0,\"avg\":0.0,\"sum\":0.0,\"avgDistinct\":0,\"sumDistinct\":0.0},\n",
      "{\"name\":\"numberOfEmployees\",\"type\":\"Integer\",\"countNonNull\":17040300,\"countDistinct\":0,\"min\":0.0,\"max\":9352.0,\"avg\":3.5259426183811318,\"sum\":6.008312E7,\"avgDistinct\":6008312,\"sumDistinct\":6.008312E7},\n",
      "{\"name\":\"revenue\",\"type\":\"Long\",\"countNonNull\":2423860,\"countDistinct\":0,\"min\":0.0,\"max\":2.332094E9,\"avg\":2202405.9145330177,\"sum\":5.3383236E12,\"avgDistinct\":2147483647,\"sumDistinct\":5.3383236E12},\n",
      "{\"name\":\"EBITDA\",\"type\":\"Double\",\"countNonNull\":2053060,\"countDistinct\":0,\"min\":-4.2073E7,\"max\":1.640494E9,\"avg\":251561.2208118613,\"sum\":5.1647028E11,\"avgDistinct\":2147483647,\"sumDistinct\":5.1647028E11},\n",
      "{\"name\":\"province\",\"type\":\"String\",\"countNonNull\":31670350,\"countDistinct\":0,\"min\":0.0,\"max\":0.0,\"avg\":0.0,\"sum\":0.0,\"avgDistinct\":0,\"sumDistinct\":0.0},\n",
      "{\"name\":\"legalStatus\",\"type\":\"String\",\"countNonNull\":36260650,\"countDistinct\":0,\"min\":0.0,\"max\":0.0,\"avg\":0.0,\"sum\":0.0,\"avgDistinct\":0,\"sumDistinct\":0.0}]\n"
     ]
    }
   ],
   "source": [
    "query=\"dataprofile sct confidence 80 error 10\"\n",
    "data = {'query':query}\n",
    "response = requests.get(Query_URL, params=data)\n",
    "print(response.text)"
   ]
  },
  {
   "cell_type": "code",
   "execution_count": 20,
   "metadata": {
    "scrolled": false
   },
   "outputs": [
    {
     "name": "stdout",
     "output_type": "stream",
     "text": [
      "[{\"name\":\"fund\",\"type\":\"String\",\"countNonNull\":2587090,\"countDistinct\":0,\"min\":0.0,\"max\":0.0,\"avg\":0.0,\"sum\":0.0,\"avgDistinct\":0,\"sumDistinct\":0.0},\n",
      "{\"name\":\"totalAmount\",\"type\":\"Double\",\"countNonNull\":2389890,\"countDistinct\":0,\"min\":0.0,\"max\":1.2800325E7,\"avg\":15442.605940273388,\"sum\":3.690612951059997E10,\"avgDistinct\":2147483647,\"sumDistinct\":3.690612951059997E10},\n",
      "{\"name\":\"company_acheneID\",\"type\":\"String\",\"countNonNull\":2389890,\"countDistinct\":0,\"min\":0.0,\"max\":0.0,\"avg\":0.0,\"sum\":0.0,\"avgDistinct\":0,\"sumDistinct\":0.0},\n",
      "{\"name\":\"legalStatus\",\"type\":\"String\",\"countNonNull\":2389890,\"countDistinct\":0,\"min\":0.0,\"max\":0.0,\"avg\":0.0,\"sum\":0.0,\"avgDistinct\":0,\"sumDistinct\":0.0},\n",
      "{\"name\":\"grant_acheneID\",\"type\":\"String\",\"countNonNull\":2389890,\"countDistinct\":0,\"min\":0.0,\"max\":0.0,\"avg\":0.0,\"sum\":0.0,\"avgDistinct\":0,\"sumDistinct\":0.0},\n",
      "{\"name\":\"granter_acheneID\",\"type\":\"String\",\"countNonNull\":706370,\"countDistinct\":0,\"min\":0.0,\"max\":0.0,\"avg\":0.0,\"sum\":0.0,\"avgDistinct\":0,\"sumDistinct\":0.0}]\n"
     ]
    }
   ],
   "source": [
    "query=\"dataprofile pft confidence 80 error 10\"\n",
    "data = {'query':query}\n",
    "response = requests.get(Query_URL, params=data)\n",
    "print(response.text)"
   ]
  },
  {
   "cell_type": "markdown",
   "metadata": {},
   "source": [
    "## Get approximate quantile of numberOfEmployees and revenue of Italian companies granted public fund\n",
    "This query joins two tables and calculates quantile over revenue of companies that means the result is range of buckets with equal item frequency. We are separating the data to 5 buckets."
   ]
  },
  {
   "cell_type": "code",
   "execution_count": 14,
   "metadata": {
    "scrolled": true
   },
   "outputs": [
    {
     "name": "stdout",
     "output_type": "stream",
     "text": [
      "[{\"percent\":20.0,\"value\":0.0},\n",
      "{\"percent\":40.0,\"value\":357000.0},\n",
      "{\"percent\":60.0,\"value\":1040000.0},\n",
      "{\"percent\":80.0,\"value\":2453000.0}]\n"
     ]
    }
   ],
   "source": [
    "query=\"select quantile(revenue,5) from PFT p, SCT s where p.company_acheneID= s.acheneID confidence 90 error 10\"\n",
    "data = {'query':query}\n",
    "response = requests.get(Query_URL, params=data)\n",
    "print(response.text)\n"
   ]
  },
  {
   "cell_type": "markdown",
   "metadata": {},
   "source": [
    "## -------------------------------------------------------------------------------------------------------------------------------"
   ]
  },
  {
   "cell_type": "markdown",
   "metadata": {},
   "source": [
    "### Get total amount of public fund granted to Italian companies group by province\n",
    "To execute the query without approximation, remove confidence and error from the statement.\n",
    "Quantile and Binning cannot be executed in exact mode, do not remove confidence and error in these queries."
   ]
  },
  {
   "cell_type": "code",
   "execution_count": 4,
   "metadata": {},
   "outputs": [
    {
     "name": "stdout",
     "output_type": "stream",
     "text": [
      "[8177,6.760901655E7,Palermo]\n",
      "[867,5036468.914285715,Verbano-Cusio-Ossola]\n",
      "[7965,7.012070408571431E7,Firenze]\n",
      "[1407,1.3724483978571424E7,Matera]\n",
      "[2082,6.133944876428568E7,Trapani]\n",
      "[1022,9479602.80000001,Vercelli]\n",
      "[366,9297355.885714287,Vibo Valentia]\n",
      "[2140,1.932791335714286E7,Barletta-Andria-Trani]\n",
      "[2757,1.9123858157142855E7,Siracusa]\n",
      "[4223,4.70171834357143E7,Messina]\n",
      "[4840,4.1228038607142866E7,Monza e della Brianza]\n",
      "[3085,2.4070558821428563E7,Taranto]\n",
      "[4358,4.5509362650000006E7,Reggio nell'Emilia]\n",
      "[4204,6.79380285214286E8,Ancona]\n",
      "[1253,3.766330748571428E7,Nuoro]\n",
      "[2507,2.2687353642857138E7,Catanzaro]\n",
      "[6692,8.859520260000004E7,Modena]\n",
      "[1870,1.6336325815714294E8,Livorno]\n",
      "[7174,9.050080763571426E7,Bologna]\n",
      "[829,1.2800552657142857E7,Isernia]\n",
      "[1060,1.5644768914285712E7,Siena]\n",
      "[2063,1.4818735234285718E8,Ascoli Piceno]\n",
      "[19,16253.614285714284,null]\n",
      "[2603,2.519028237857143E7,Pesaro e Urbino]\n",
      "[2931,2.7831721114285715E7,Novara]\n",
      "[4377,6.7071133542857155E7,Macerata]\n",
      "[3972,3.709549035E7,Latina]\n",
      "[8736,8.525911943571429E7,Verona]\n",
      "[964,7471549.157142854,Enna]\n",
      "[14001,6.670808616214281E8,Bergamo]\n",
      "[1080,7944415.971428571,Viterbo]\n",
      "[3355,5.617971694285715E7,Teramo]\n",
      "[4512,2.033848528714287E8,Bolzano/Bozen]\n",
      "[925,1.3766636957142858E7,Grosseto]\n",
      "[34849,4.0331104296428597E8,Milano]\n",
      "[3567,3.671602907142859E7,Cosenza]\n",
      "[7617,5.516897541428572E7,Caserta]\n",
      "[2217,2.9723706385714278E7,Foggia]\n",
      "[2449,2.4726140421428572E7,Pisa]\n",
      "[9083,1.5701405637857148E8,Catania]\n",
      "[1870,6.122733242142858E7,Brindisi]\n",
      "[1639,2.153727302142857E7,Massa-Carrara]\n",
      "[11127,8.621758279285713E7,Vicenza]\n",
      "[1427,1.9114189071428567E7,Asti]\n",
      "[2275,2.250757067142857E7,Cremona]\n",
      "[559,8894210.592857143,La Spezia]\n",
      "[2719,5.507786333571427E7,Alessandria]\n",
      "[19189,2.7157408476428556E8,Roma]\n",
      "[6441,8.948406015E7,Lecce]\n",
      "[2256,8.17990324071429E7,Biella]\n",
      "[3490,6.30161082642857E7,Potenza]\n",
      "[810,5431834.542857143,Terni]\n",
      "[3490,4.469422493571428E7,Mantova]\n",
      "[5535,4.4766697949999996E7,Venezia]\n",
      "[2738,2.6913188250000004E7,Arezzo]\n",
      "[2892,4.7060581692857146E7,Lecco]\n",
      "[7386,8.642923174285716E7,Udine]\n",
      "[9604,2.034128487857144E8,Padova]\n",
      "[2892,8.00635896642857E7,Chieti]\n",
      "[6615,1.1470514856428573E8,Cuneo]\n",
      "[1639,1.2084706092857143E7,Reggio Calabria]\n",
      "[1967,2.134314379285714E7,Caltanissetta]\n",
      "[2391,2.084603329285715E7,Pavia]\n",
      "[2738,2.2390673785714284E7,Ragusa]\n",
      "[4030,1.1246730795E8,Cagliari]\n",
      "[2584,3.0588369235714287E7,Trieste]\n",
      "[1195,1.1688275121428568E7,Sondrio]\n",
      "[887,1.9351712121428575E7,Rieti]\n",
      "[655,1.17017919E7,Lodi]\n",
      "[3143,5.888234944285714E7,Genova]\n",
      "[462,1.0214537592857143E7,Imperia]\n",
      "[1407,1.6741406121428572E7,Belluno]\n",
      "[1986,2.4059253728571426E7,L'Aquila]\n",
      "[2256,3.2518169550000004E7,Lucca]\n",
      "[2237,2.5711208228571422E7,Fermo]\n",
      "[27115,2.863906795928571E8,Napoli]\n",
      "[482,2199313.1571428576,Savona]\n",
      "[11783,1.6290915113571426E8,Salerno]\n",
      "[9450,2.0333900340000013E8,Bari]\n",
      "[3799,5.194896447857141E7,Parma]\n",
      "[2102,1.0254874050000003E7,Rimini]\n",
      "[3162,2.8455890528571434E7,Ravenna]\n",
      "[867,2.903707690714285E7,Crotone]\n",
      "[1369,1.76077989E7,Sud Sardegna]\n",
      "[1388,8420385.664285712,Ferrara]\n",
      "[5573,9.953908675714286E7,Perugia]\n",
      "[1465,9569449.542857142,Agrigento]\n",
      "[2449,2.2215171857142866E7,Frosinone]\n",
      "[2873,3.0486689357142862E7,Pescara]\n",
      "[2449,2.23664112E7,b'Forlxc3xac-Cesena']\n",
      "[1523,9.851550942857143E7,Campobasso]\n",
      "[4609,3.654525792857142E7,Sassari]\n",
      "[18340,3.186153252000001E8,Torino]\n",
      "[3606,4.5495985885714285E7,Avellino]\n",
      "[1832,8641258.2,Rovigo]\n",
      "[10086,2.0666594899285713E8,Treviso]\n",
      "[7193,9.441149901428565E7,Varese]\n",
      "[6576,1.8950512988571432E8,Trento]\n",
      "[636,3544066.092857142,Oristano]\n",
      "[3375,4.2326753657142855E7,Pordenone]\n",
      "[2140,1.5781878192857143E7,Pistoia]\n",
      "[2854,1.5136359319285718E8,Benevento]\n",
      "[2025,1.5055972778571423E7,Piacenza]\n",
      "[1253,1.4386385699999997E7,Gorizia]\n",
      "[2584,2.728320936428573E7,Prato]\n",
      "[13037,3.7799444359285694E8,Brescia]\n",
      "[1369,8576673.235714287,\"b\"Valle d'Aosta/Vallxc3xa9e d'Aoste\"\"]\n",
      "[4185,4.129386075000002E7,Como]\n",
      "\n"
     ]
    }
   ],
   "source": [
    "query=\"select count(p.totalAmount),sum(p.totalAmount),province from PFT p, SCT s where s.revenue>1000 and p.company_acheneID=s.acheneID group by s.province confidence 80 error 20\"\n",
    "data = {'query':query}\n",
    "response = requests.get(Query_URL, params=data)\n",
    "print(response.text)"
   ]
  },
  {
   "cell_type": "markdown",
   "metadata": {},
   "source": [
    "\n",
    "### ----------------------------------------------------------------------------------------------------------------------------------------------"
   ]
  },
  {
   "cell_type": "markdown",
   "metadata": {},
   "source": [
    "\n",
    "### Find approximate number of wealthy companies which are granted public funds, grouped by company type (with different filters)"
   ]
  },
  {
   "cell_type": "code",
   "execution_count": 16,
   "metadata": {
    "scrolled": true
   },
   "outputs": [
    {
     "name": "stdout",
     "output_type": "stream",
     "text": [
      "[7444,b'Societxc3xa0 Per Azioni Con Socio Unico']\n",
      "[24,b'Societxc3xa0 Consortile Cooperativa A Responsabilitxc3xa0 Limitata']\n",
      "[2,b'Societxc3xa0 In Accomandita Per Azioni']\n",
      "[1,b'Societxc3xa0 Consortile']\n",
      "[1,Soggetto Estero]\n",
      "[2,Ente Sociale]\n",
      "[50854,b'Societxc3xa0 Per Azioni']\n",
      "[14,Consorzio Di Cui Al Dlgs 267/2000]\n",
      "[1,Consorzio Intercomunale]\n",
      "[55,Azienda Speciale Di Cui Al Dlgs 267/2000]\n",
      "[4078,b'Societxc3xa0 Cooperativa A Responsabilita Limitata']\n",
      "[51258,b'Societxc3xa0 A Responsabilitxc3xa0 Limitata Con Unico Socio']\n",
      "[7,Associazione Impresa]\n",
      "[3,Ente]\n",
      "[33,Fondazione Impresa]\n",
      "[639,b'Societxc3xa0 In Accomandita Semplice']\n",
      "[365,b'Societxc3xa0 Consortile Per Azioni']\n",
      "[311,b'Societxc3xa0 In Nome Collettivo']\n",
      "[13,b'Societxc3xa0 Di Mutuo Soccorso']\n",
      "[364,b'Societxc3xa0 Cooperativa Consortile']\n",
      "[2329,b'Societxc3xa0 Consortile A Responsabilitxc3xa0 Limitata']\n",
      "[1,Azienda Municipale]\n",
      "[61,Azienda Speciale Di Ente Locale]\n",
      "[8176,Cooperativa Sociale]\n",
      "[41,b'Piccola Societxc3xa0 Cooperativa A Responsabilitxc3xa0 Limitata']\n",
      "[1,b'Societxc3xa0 Cooperativa Europea']\n",
      "[481490,b'Societxc3xa0 A Responsabilitxc3xa0 Limitata']\n",
      "[469,b'Consorzio Con Attivitxc3xa0 Esterna']\n",
      "[30,Fondazione]\n",
      "[1,Ente Diritto Pubblico]\n",
      "[29168,b'Societxc3xa0 Cooperativa']\n",
      "[4,b'Piccola Societxc3xa0 Cooperativa']\n",
      "[2,b'Societxc3xa0 A Responsabilitxc3xa0 Limitata A Capitale Ridotto']\n",
      "[37,Ente Pubblico Economico]\n",
      "[1399,Consorzio]\n",
      "[21,b'Societxc3xa0 Tra Professionisti']\n",
      "[14,b'Contratto Di Rete Dotato Di Soggettivitxc3xa0 Giuridica']\n",
      "[21196,b'Societxc3xa0 A Responsabilitxc3xa0 Limitata Semplificata']\n",
      "[10,b'Societxc3xa0 Costituita In Base A Leggi Di Altro Stato']\n",
      "[2,Gruppo Europeo Di Interesse Economico]\n",
      "[11,b'Societxc3xa0 Semplice']\n",
      "\n"
     ]
    }
   ],
   "source": [
    "query=\"select count(*),s.legalStatus from PFT p, SCT s where p.company_acheneID=s.acheneID and s.revenue>100000 group by s.legalStatus confidence 80 error 10\"\n",
    "data = {'query':query}\n",
    "response = requests.get(Query_URL, params=data)\n",
    "print(response.text)"
   ]
  },
  {
   "cell_type": "markdown",
   "metadata": {},
   "source": [
    "## Binning and visualization\n",
    "You can bin a table over a attribute where you can see approximate frequency of items in each bucket. Use keyword binning(attName, start, end, bucketNumber) with desired confidence and error to get the results. "
   ]
  },
  {
   "cell_type": "code",
   "execution_count": 15,
   "metadata": {
    "scrolled": true
   },
   "outputs": [
    {
     "name": "stdout",
     "output_type": "stream",
     "text": [
      "[{\"start\":0.0,\"end\":10000.0,\"count\":326859},\n",
      "{\"start\":10000.0,\"end\":20000.0,\"count\":70695},\n",
      "{\"start\":20000.0,\"end\":30000.0,\"count\":68165},\n",
      "{\"start\":30000.0,\"end\":40000.0,\"count\":74995},\n",
      "{\"start\":40000.0,\"end\":50000.0,\"count\":141211},\n",
      "{\"start\":50000.0,\"end\":60000.0,\"count\":0},\n",
      "{\"start\":60000.0,\"end\":70000.0,\"count\":143147},\n",
      "{\"start\":70000.0,\"end\":80000.0,\"count\":0},\n",
      "{\"start\":80000.0,\"end\":90000.0,\"count\":141434},\n",
      "{\"start\":90000.0,\"end\":100000.0,\"count\":70050}]\n"
     ]
    }
   ],
   "source": [
    "query=\"select binning(revenue,0,100000,10) from SCT confidence 80 error 10\"\n",
    "data = {'query':query}\n",
    "response = requests.get(Query_URL, params=data)\n",
    "print(response.text)\n"
   ]
  },
  {
   "cell_type": "markdown",
   "metadata": {},
   "source": [
    "## Get approximate quantile of revenue of Italian companies"
   ]
  },
  {
   "cell_type": "code",
   "execution_count": 17,
   "metadata": {
    "scrolled": true
   },
   "outputs": [
    {
     "name": "stdout",
     "output_type": "stream",
     "text": [
      "[{\"percent\":10.0,\"value\":1.0},\n",
      "{\"percent\":20.0,\"value\":1.0},\n",
      "{\"percent\":30.0,\"value\":32763.0},\n",
      "{\"percent\":40.0,\"value\":65535.0},\n",
      "{\"percent\":50.0,\"value\":258048.0},\n",
      "{\"percent\":60.0,\"value\":258048.0},\n",
      "{\"percent\":70.0,\"value\":523264.0},\n",
      "{\"percent\":80.0,\"value\":1048575.0},\n",
      "{\"percent\":90.0,\"value\":4193791.0}]\n"
     ]
    }
   ],
   "source": [
    "query=\"select quantile(revenue,10) from SCT s confidence 80 error 10\"\n",
    "data = {'query':query}\n",
    "response = requests.get(Query_URL, params=data)\n",
    "print(response.text)\n"
   ]
  },
  {
   "cell_type": "code",
   "execution_count": null,
   "metadata": {},
   "outputs": [],
   "source": []
  },
  {
   "cell_type": "code",
   "execution_count": null,
   "metadata": {},
   "outputs": [],
   "source": []
  },
  {
   "cell_type": "code",
   "execution_count": null,
   "metadata": {},
   "outputs": [],
   "source": []
  },
  {
   "cell_type": "code",
   "execution_count": null,
   "metadata": {},
   "outputs": [],
   "source": []
  },
  {
   "cell_type": "code",
   "execution_count": null,
   "metadata": {},
   "outputs": [],
   "source": [
    "               "
   ]
  },
  {
   "cell_type": "code",
   "execution_count": 13,
   "metadata": {},
   "outputs": [
    {
     "data": {
      "image/png": "[encoded data removed]",
      "text/plain": [
       "<Figure size 432x288 with 1 Axes>"
      ]
     },
     "metadata": {
      "needs_background": "light"
     },
     "output_type": "display_data"
    }
   ],
   "source": [
    "fig = plt.figure()\n",
    "ax = fig.add_axes([0,0,1,1])\n",
    "ax.bar(20,0)\n",
    "ax.bar(40,365000)\n",
    "ax.bar(60,1106000)\n",
    "ax.bar(80,2615000)\n",
    "plt.show()"
   ]
  },
  {
   "cell_type": "code",
   "execution_count": null,
   "metadata": {},
   "outputs": [],
   "source": []
  }
 ],
 "metadata": {
  "kernelspec": {
   "display_name": "Python 3",
   "language": "python",
   "name": "python3"
  },
  "language_info": {
   "codemirror_mode": {
    "name": "ipython",
    "version": 3
   },
   "file_extension": ".py",
   "mimetype": "text/x-python",
   "name": "python",
   "nbconvert_exporter": "python",
   "pygments_lexer": "ipython3",
   "version": "3.6.8"
  }
 },
 "nbformat": 4,
 "nbformat_minor": 4
}
